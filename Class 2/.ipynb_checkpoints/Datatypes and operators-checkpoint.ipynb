{
 "cells": [
  {
   "cell_type": "code",
   "execution_count": 1,
   "id": "fbea311b-d25d-4859-a162-7d6e6a05af4b",
   "metadata": {},
   "outputs": [],
   "source": [
    "#ESC+Y To convert markdown to code "
   ]
  },
  {
   "cell_type": "code",
   "execution_count": 8,
   "id": "cd057742-1bbc-4734-8574-431929a8fb3a",
   "metadata": {},
   "outputs": [],
   "source": [
    "# git clone paste the url of github create a local system on computer "
   ]
  },
  {
   "cell_type": "code",
   "execution_count": 5,
   "id": "1c5259db-439d-4aa4-badd-b4f3fea08463",
   "metadata": {},
   "outputs": [
    {
     "name": "stdout",
     "output_type": "stream",
     "text": [
      "Hello world\n"
     ]
    }
   ],
   "source": [
    "print(\"Hello world\") # print is a builtin function , it takes arguments/parameters to print on console "
   ]
  },
  {
   "cell_type": "code",
   "execution_count": 7,
   "id": "0f1e9472-2920-4ec3-b7de-605c0e2e9a07",
   "metadata": {},
   "outputs": [],
   "source": [
    "# use for commenting "
   ]
  },
  {
   "cell_type": "markdown",
   "id": "cec308b9-8abe-43fa-ad85-07f90b25d72a",
   "metadata": {},
   "source": [
    "### Variables"
   ]
  },
  {
   "cell_type": "code",
   "execution_count": 9,
   "id": "78039624-aa31-404d-9928-fc35b1b3abc7",
   "metadata": {},
   "outputs": [],
   "source": [
    "name = \"Mehdi\" # it is stored as string"
   ]
  },
  {
   "cell_type": "code",
   "execution_count": 10,
   "id": "c1a3ce05-8c05-4a02-9615-8cea4e78ae2c",
   "metadata": {},
   "outputs": [
    {
     "name": "stdout",
     "output_type": "stream",
     "text": [
      "Mehdi\n"
     ]
    }
   ],
   "source": [
    "print(name)"
   ]
  },
  {
   "cell_type": "code",
   "execution_count": 11,
   "id": "8ea3ae03-b969-4864-b4ad-f4ec21d0ce0e",
   "metadata": {},
   "outputs": [
    {
     "name": "stdout",
     "output_type": "stream",
     "text": [
      "2901110157808\n"
     ]
    }
   ],
   "source": [
    "print(id(name))"
   ]
  },
  {
   "cell_type": "code",
   "execution_count": 13,
   "id": "9601a579-70f7-4912-a456-e6c08d9f2eec",
   "metadata": {},
   "outputs": [],
   "source": [
    "# id is use for finding location and address FDE "
   ]
  },
  {
   "cell_type": "code",
   "execution_count": 14,
   "id": "63d60db1-a45e-47e4-b8be-244375e5ef25",
   "metadata": {},
   "outputs": [
    {
     "data": {
      "text/plain": [
       "2901110157808"
      ]
     },
     "execution_count": 14,
     "metadata": {},
     "output_type": "execute_result"
    }
   ],
   "source": [
    "id(name)"
   ]
  },
  {
   "cell_type": "code",
   "execution_count": 18,
   "id": "57ec2b72-83cd-4b4e-812e-98371a258364",
   "metadata": {},
   "outputs": [],
   "source": [
    "age = 15 # integer type is stored "
   ]
  },
  {
   "cell_type": "code",
   "execution_count": 19,
   "id": "28f8efce-308d-46ed-ac18-0b730774399b",
   "metadata": {},
   "outputs": [
    {
     "name": "stdout",
     "output_type": "stream",
     "text": [
      "15\n"
     ]
    }
   ],
   "source": [
    "print(age)"
   ]
  },
  {
   "cell_type": "code",
   "execution_count": 20,
   "id": "66967083-6f9f-4ee3-88b5-8315ce9fcc77",
   "metadata": {},
   "outputs": [
    {
     "data": {
      "text/plain": [
       "140732509570280"
      ]
     },
     "execution_count": 20,
     "metadata": {},
     "output_type": "execute_result"
    }
   ],
   "source": [
    "id(age)"
   ]
  },
  {
   "cell_type": "code",
   "execution_count": 21,
   "id": "4631bc63-7657-4624-9e25-73a535387608",
   "metadata": {},
   "outputs": [],
   "source": [
    "ispresent = True "
   ]
  },
  {
   "cell_type": "code",
   "execution_count": 22,
   "id": "075b8932-1caf-4b26-9296-89fcf2e277aa",
   "metadata": {},
   "outputs": [
    {
     "name": "stdout",
     "output_type": "stream",
     "text": [
      "True\n"
     ]
    }
   ],
   "source": [
    "print(ispresent)"
   ]
  },
  {
   "cell_type": "code",
   "execution_count": 23,
   "id": "ea70d203-6d36-4de5-99c7-e46cdb3663b1",
   "metadata": {},
   "outputs": [
    {
     "data": {
      "text/plain": [
       "bool"
      ]
     },
     "execution_count": 23,
     "metadata": {},
     "output_type": "execute_result"
    }
   ],
   "source": [
    "type(ispresent)"
   ]
  },
  {
   "cell_type": "code",
   "execution_count": 25,
   "id": "611fc460-64a5-4543-b513-a8ef4c5070be",
   "metadata": {},
   "outputs": [
    {
     "data": {
      "text/plain": [
       "str"
      ]
     },
     "execution_count": 25,
     "metadata": {},
     "output_type": "execute_result"
    }
   ],
   "source": [
    "type(name)"
   ]
  },
  {
   "cell_type": "code",
   "execution_count": 26,
   "id": "0e87eee8-3d0d-49a6-bc70-9aec807e6628",
   "metadata": {},
   "outputs": [
    {
     "data": {
      "text/plain": [
       "int"
      ]
     },
     "execution_count": 26,
     "metadata": {},
     "output_type": "execute_result"
    }
   ],
   "source": [
    "type(age)"
   ]
  },
  {
   "cell_type": "code",
   "execution_count": 27,
   "id": "97107d34-8dd4-4e1a-957b-94ee8d366d5d",
   "metadata": {},
   "outputs": [],
   "source": [
    "# uses all three quotations"
   ]
  },
  {
   "cell_type": "code",
   "execution_count": 29,
   "id": "f91be35d-5132-44f8-b53a-48f142ddbc55",
   "metadata": {},
   "outputs": [],
   "source": [
    "last_name = \"Abbas's\""
   ]
  },
  {
   "cell_type": "code",
   "execution_count": 45,
   "id": "de6f816d-8c9c-4f0a-82e1-2da53d3c71ce",
   "metadata": {},
   "outputs": [
    {
     "name": "stdout",
     "output_type": "stream",
     "text": [
      "My name is mehdi abbas , \n",
      "\n"
     ]
    }
   ],
   "source": [
    "# ignoring a line in print\n",
    "quote = \"My name is mehdi abbas , \\n\"\n",
    "print(quote)"
   ]
  },
  {
   "cell_type": "code",
   "execution_count": 31,
   "id": "5b6a8e7e-b7e8-4fe3-ba98-6e5f9fbcc99e",
   "metadata": {},
   "outputs": [
    {
     "data": {
      "text/plain": [
       "\"Abbas's\""
      ]
     },
     "execution_count": 31,
     "metadata": {},
     "output_type": "execute_result"
    }
   ],
   "source": [
    "last_name"
   ]
  },
  {
   "cell_type": "code",
   "execution_count": 34,
   "id": "ccd378ae-ddfb-45e5-b75b-8d4a7440bedc",
   "metadata": {},
   "outputs": [
    {
     "name": "stdout",
     "output_type": "stream",
     "text": [
      "\n",
      "Man, what?\n",
      "This shit funny\n",
      "I was like, ooh, this Hennessy strong as fuck, boy\n",
      "She told me put my heart in the bag\n",
      "And nobody gets hurt\n",
      "Now I'm running from her love, I'm not fast\n",
      "So I'm making it worse\n",
      "Now I'm digging up a grave from my past\n",
      "I'm a whole different person\n",
      "It's a gift and a curse\n",
      "But I cannot reverse it\n",
      "I can't reverse it\n",
      "It was a gift and a curse\n",
      "And now I'm drinking too much\n",
      "So I'ma talk with a slur\n",
      "Last time I saw you it ended in a blur\n",
      "I woke up in a hearse\n",
      "You said you love me first\n",
      "One thing my dad told me was\n",
      "\"Never let your woman know when you're insecure\"\n",
      "So I put Gucci on the fur\n",
      "And I put my wrist on iceberg\n",
      "One thing my heart tells me is\n",
      "\"Flex on a hoe every time you're insecure\"\n",
      "I guess you came through\n",
      "I'm running from you\n",
      "Is your love for real?\n",
      "Is your love really true?\n",
      "She told me put my heart in the bag\n",
      "And nobody gets hurt\n",
      "Now I'm running from her love, I'm not fast\n",
      "So I'm making it worse\n",
      "Now I'm digging up a grave from my past\n",
      "I'm a whole different person\n",
      "It's a gift and a curse\n",
      "But I cannot reverse it\n",
      "You gave me the run around\n",
      "I really hate the run around\n",
      "You really got me paranoid\n",
      "I always keep a gun around\n",
      "You always give me butterflies\n",
      "When you come around\n",
      "When you come around\n",
      "When you come around\n",
      "You let me know love is not the answer\n",
      "Not the answer, not the answer\n",
      "I love to do drugs so mind my manners\n",
      "I get high when you don't decide to answer\n",
      "Phone home, I need to phone home\n",
      "I'm throwing rocks at your window\n",
      "I need to go home\n",
      "I don't wanna leave\n",
      "I do wanna be with you\n",
      "You, you, you\n",
      "She told me put my heart in the bag\n",
      "And nobody gets hurt\n",
      "Now I'm running from her love, I'm not fast\n",
      "So I'm making it worse\n",
      "Now I'm digging up a grave from my past\n",
      "I'm a whole different person\n",
      "It's a gift and a curse\n",
      "But I cannot reverse it\n"
     ]
    }
   ],
   "source": [
    "# multi line \n",
    "quotations = '''\n",
    "Man, what?\n",
    "This shit funny\n",
    "I was like, ooh, this Hennessy strong as fuck, boy\n",
    "She told me put my heart in the bag\n",
    "And nobody gets hurt\n",
    "Now I'm running from her love, I'm not fast\n",
    "So I'm making it worse\n",
    "Now I'm digging up a grave from my past\n",
    "I'm a whole different person\n",
    "It's a gift and a curse\n",
    "But I cannot reverse it\n",
    "I can't reverse it\n",
    "It was a gift and a curse\n",
    "And now I'm drinking too much\n",
    "So I'ma talk with a slur\n",
    "Last time I saw you it ended in a blur\n",
    "I woke up in a hearse\n",
    "You said you love me first\n",
    "One thing my dad told me was\n",
    "\"Never let your woman know when you're insecure\"\n",
    "So I put Gucci on the fur\n",
    "And I put my wrist on iceberg\n",
    "One thing my heart tells me is\n",
    "\"Flex on a hoe every time you're insecure\"\n",
    "I guess you came through\n",
    "I'm running from you\n",
    "Is your love for real?\n",
    "Is your love really true?\n",
    "She told me put my heart in the bag\n",
    "And nobody gets hurt\n",
    "Now I'm running from her love, I'm not fast\n",
    "So I'm making it worse\n",
    "Now I'm digging up a grave from my past\n",
    "I'm a whole different person\n",
    "It's a gift and a curse\n",
    "But I cannot reverse it\n",
    "You gave me the run around\n",
    "I really hate the run around\n",
    "You really got me paranoid\n",
    "I always keep a gun around\n",
    "You always give me butterflies\n",
    "When you come around\n",
    "When you come around\n",
    "When you come around\n",
    "You let me know love is not the answer\n",
    "Not the answer, not the answer\n",
    "I love to do drugs so mind my manners\n",
    "I get high when you don't decide to answer\n",
    "Phone home, I need to phone home\n",
    "I'm throwing rocks at your window\n",
    "I need to go home\n",
    "I don't wanna leave\n",
    "I do wanna be with you\n",
    "You, you, you\n",
    "She told me put my heart in the bag\n",
    "And nobody gets hurt\n",
    "Now I'm running from her love, I'm not fast\n",
    "So I'm making it worse\n",
    "Now I'm digging up a grave from my past\n",
    "I'm a whole different person\n",
    "It's a gift and a curse\n",
    "But I cannot reverse it'''\n",
    "print(quotations)"
   ]
  },
  {
   "cell_type": "code",
   "execution_count": 46,
   "id": "5a40b34c-d6da-4745-8f0a-37f44f17d3d3",
   "metadata": {},
   "outputs": [],
   "source": [
    "lastname = 5\n"
   ]
  },
  {
   "cell_type": "code",
   "execution_count": 47,
   "id": "1c9065af-33f9-4a05-9c5b-d928e4cb5f5f",
   "metadata": {},
   "outputs": [
    {
     "name": "stdout",
     "output_type": "stream",
     "text": [
      "5\n"
     ]
    }
   ],
   "source": [
    "print(lastname)"
   ]
  },
  {
   "cell_type": "code",
   "execution_count": 48,
   "id": "0a06ccb7-0d06-4a46-b01a-552afc9947d2",
   "metadata": {},
   "outputs": [],
   "source": [
    "goat = int(65)"
   ]
  },
  {
   "cell_type": "code",
   "execution_count": 49,
   "id": "cadefd5c-05ad-4a8b-bb69-c45cfedd31a3",
   "metadata": {},
   "outputs": [
    {
     "name": "stdout",
     "output_type": "stream",
     "text": [
      "65\n"
     ]
    }
   ],
   "source": [
    "print(goat)"
   ]
  },
  {
   "cell_type": "code",
   "execution_count": 50,
   "id": "cb42af5c-f771-42ef-9b12-c1a04749cf60",
   "metadata": {},
   "outputs": [
    {
     "name": "stdin",
     "output_type": "stream",
     "text": [
      "Input any num =  6\n"
     ]
    },
    {
     "name": "stdout",
     "output_type": "stream",
     "text": [
      "6\n"
     ]
    }
   ],
   "source": [
    "input = int(input(\"Input any num = \"))\n",
    "print(input)"
   ]
  },
  {
   "cell_type": "markdown",
   "id": "1a963a67-09ce-4c0c-88b9-3da84ee826ca",
   "metadata": {},
   "source": [
    "### Operators"
   ]
  },
  {
   "cell_type": "markdown",
   "id": "e46d8fa9-c249-498c-9507-63910a0ed2a7",
   "metadata": {},
   "source": [
    "Arithmetic operators:\n",
    "- +\n",
    "- -\n",
    "- *\n",
    "- /\n",
    "- ** #Power\n",
    "- // # floor\n",
    "\n",
    "Logical operators:\n",
    "- and\n",
    "- or\n",
    "- not\n",
    "- >\n",
    "- >=\n",
    "- ==\n",
    "- !="
   ]
  },
  {
   "cell_type": "code",
   "execution_count": 52,
   "id": "154c103b-e474-419a-9bfb-578befa30449",
   "metadata": {},
   "outputs": [
    {
     "data": {
      "text/plain": [
       "2"
      ]
     },
     "execution_count": 52,
     "metadata": {},
     "output_type": "execute_result"
    }
   ],
   "source": [
    "5//2"
   ]
  },
  {
   "cell_type": "code",
   "execution_count": 70,
   "id": "8936fc31-bbdf-44f9-a9d4-6331e8ecc2dd",
   "metadata": {},
   "outputs": [],
   "source": [
    "import math"
   ]
  },
  {
   "cell_type": "code",
   "execution_count": 71,
   "id": "0649d36e-390d-4f08-8bfd-a2c722e77f55",
   "metadata": {},
   "outputs": [],
   "source": [
    "x = 5/2"
   ]
  },
  {
   "cell_type": "code",
   "execution_count": 83,
   "id": "a4d185a5-6d53-4c54-93f8-e4f7d1b0bba5",
   "metadata": {},
   "outputs": [
    {
     "name": "stdout",
     "output_type": "stream",
     "text": [
      "Result is  3\n"
     ]
    }
   ],
   "source": [
    "y = math.ceil(x)\n",
    "print(\"Result is \",y)"
   ]
  },
  {
   "cell_type": "code",
   "execution_count": 84,
   "id": "b0648ca1-33b9-48a3-8373-c33bde42b5dc",
   "metadata": {},
   "outputs": [],
   "source": [
    "reject = r\"my name i mehdi I am 15 years old \"\n"
   ]
  },
  {
   "cell_type": "code",
   "execution_count": 85,
   "id": "d9927659-a8e7-4bc0-8498-b2e90cb8cae0",
   "metadata": {},
   "outputs": [
    {
     "name": "stdout",
     "output_type": "stream",
     "text": [
      "my name i mehdi I am 15 years old \n"
     ]
    }
   ],
   "source": [
    "print(reject)"
   ]
  },
  {
   "cell_type": "markdown",
   "id": "0d831c53-fbea-41e4-971b-093947a07710",
   "metadata": {},
   "source": [
    "### Keywords \n",
    "- True, False\n",
    "- elif\n",
    "- else\n",
    "- if \n",
    "- def , import "
   ]
  },
  {
   "cell_type": "markdown",
   "id": "dbb8b9e4-408d-4f06-8954-d55dde1da5bc",
   "metadata": {},
   "source": [
    "### Unfamiliar operators "
   ]
  },
  {
   "cell_type": "code",
   "execution_count": 87,
   "id": "3f3f8f95-1106-409c-86a9-cac9ac71ea5c",
   "metadata": {},
   "outputs": [
    {
     "name": "stdout",
     "output_type": "stream",
     "text": [
      "1\n"
     ]
    }
   ],
   "source": [
    "left_over = 9%4\n",
    "print(left_over)"
   ]
  },
  {
   "cell_type": "code",
   "execution_count": 88,
   "id": "23658f8d-0ed3-4b5d-9c1f-860a23936c5c",
   "metadata": {},
   "outputs": [],
   "source": [
    "# modulus operator and returns remainder "
   ]
  },
  {
   "cell_type": "code",
   "execution_count": 89,
   "id": "72af4a03-5bc4-43e0-ae69-615bd68e48e3",
   "metadata": {},
   "outputs": [],
   "source": [
    "left_over += 5"
   ]
  },
  {
   "cell_type": "code",
   "execution_count": 90,
   "id": "99783e98-ab65-4af5-9fa6-1caf1416065d",
   "metadata": {},
   "outputs": [
    {
     "data": {
      "text/plain": [
       "6"
      ]
     },
     "execution_count": 90,
     "metadata": {},
     "output_type": "execute_result"
    }
   ],
   "source": [
    "left_over"
   ]
  },
  {
   "cell_type": "code",
   "execution_count": 91,
   "id": "051d8b62-63d0-4d14-8018-e6999f159887",
   "metadata": {},
   "outputs": [],
   "source": [
    "left_over -= 6"
   ]
  },
  {
   "cell_type": "code",
   "execution_count": 92,
   "id": "a0c98071-df07-4de1-bcce-74c0a7c84dd0",
   "metadata": {},
   "outputs": [
    {
     "data": {
      "text/plain": [
       "0"
      ]
     },
     "execution_count": 92,
     "metadata": {},
     "output_type": "execute_result"
    }
   ],
   "source": [
    "left_over"
   ]
  },
  {
   "cell_type": "markdown",
   "id": "139941cf-7c3c-4c4b-9e5c-3c004f5acd2e",
   "metadata": {},
   "source": [
    "### Expressions"
   ]
  },
  {
   "cell_type": "code",
   "execution_count": 97,
   "id": "8e18a844-a2d9-4c8f-a5e2-4f61ffc4f85e",
   "metadata": {},
   "outputs": [
    {
     "data": {
      "text/plain": [
       "-40"
      ]
     },
     "execution_count": 97,
     "metadata": {},
     "output_type": "execute_result"
    }
   ],
   "source": [
    "(4*8)+0-9*8"
   ]
  },
  {
   "cell_type": "markdown",
   "id": "7a12c8e4-e4a4-418e-bfbf-4d9913db1eee",
   "metadata": {},
   "source": [
    "## Concatenation of strings"
   ]
  },
  {
   "cell_type": "code",
   "execution_count": 98,
   "id": "79e65091-daf2-4a0c-bc85-01bb7f4e2c9e",
   "metadata": {},
   "outputs": [
    {
     "data": {
      "text/plain": [
       "'Mehdi Abbas'"
      ]
     },
     "execution_count": 98,
     "metadata": {},
     "output_type": "execute_result"
    }
   ],
   "source": [
    "\"Mehdi \" + \"Abbas\""
   ]
  },
  {
   "cell_type": "code",
   "execution_count": 99,
   "id": "e1a99c0c-1cd3-4c04-8c74-dba61c0b1e77",
   "metadata": {},
   "outputs": [
    {
     "data": {
      "text/plain": [
       "('Mehdi ', 'Abbas')"
      ]
     },
     "execution_count": 99,
     "metadata": {},
     "output_type": "execute_result"
    }
   ],
   "source": [
    "\"Mehdi \" , \"Abbas\""
   ]
  },
  {
   "cell_type": "code",
   "execution_count": 101,
   "id": "76631386-5f86-4248-a704-8f1784cde774",
   "metadata": {},
   "outputs": [
    {
     "name": "stdout",
     "output_type": "stream",
     "text": [
      "Mehdi Abbas\n"
     ]
    }
   ],
   "source": [
    "print(\"Mehdi\" , \"Abbas\")"
   ]
  },
  {
   "cell_type": "code",
   "execution_count": 102,
   "id": "834ccb84-8863-477f-80f9-b8552583ec6a",
   "metadata": {},
   "outputs": [
    {
     "data": {
      "text/plain": [
       "('Mehdi', 15)"
      ]
     },
     "execution_count": 102,
     "metadata": {},
     "output_type": "execute_result"
    }
   ],
   "source": [
    "name,age"
   ]
  },
  {
   "cell_type": "code",
   "execution_count": 108,
   "id": "bf05dc93-747d-4a37-b1c4-5a9b96cee54a",
   "metadata": {},
   "outputs": [
    {
     "name": "stdout",
     "output_type": "stream",
     "text": [
      "Student name: Mehdi\n"
     ]
    }
   ],
   "source": [
    "print(\"Student name:\",name)"
   ]
  },
  {
   "cell_type": "code",
   "execution_count": 110,
   "id": "5cb6d02b-dcfa-4e34-b66f-5843f387e4d6",
   "metadata": {},
   "outputs": [
    {
     "name": "stdout",
     "output_type": "stream",
     "text": [
      "is he present True\n"
     ]
    }
   ],
   "source": [
    "print(\"is he present\",str(ispresent))"
   ]
  },
  {
   "cell_type": "code",
   "execution_count": 111,
   "id": "7a0a70f3-c922-4528-ba6e-dc6483423e3c",
   "metadata": {},
   "outputs": [],
   "source": [
    "# in concatenation , dosent need type casting but + needs type casting "
   ]
  },
  {
   "cell_type": "code",
   "execution_count": 113,
   "id": "5ab75e9b-677a-4863-9ea6-fac90c0df2f0",
   "metadata": {},
   "outputs": [
    {
     "name": "stdout",
     "output_type": "stream",
     "text": [
      "Student name : Mehdi\n",
      "Student age : 15\n"
     ]
    }
   ],
   "source": [
    "# Formatting \n",
    "print(f\"Student name : {name}\")\n",
    "print(f\"Student age : {age}\")"
   ]
  }
 ],
 "metadata": {
  "kernelspec": {
   "display_name": "Python 3 (ipykernel)",
   "language": "python",
   "name": "python3"
  },
  "language_info": {
   "codemirror_mode": {
    "name": "ipython",
    "version": 3
   },
   "file_extension": ".py",
   "mimetype": "text/x-python",
   "name": "python",
   "nbconvert_exporter": "python",
   "pygments_lexer": "ipython3",
   "version": "3.11.7"
  }
 },
 "nbformat": 4,
 "nbformat_minor": 5
}
