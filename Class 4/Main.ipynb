{
 "cells": [
  {
   "cell_type": "markdown",
   "id": "2506f81e-2aa4-4751-8404-0e4038335c7b",
   "metadata": {},
   "source": [
    "# Nesting If-else"
   ]
  },
  {
   "cell_type": "code",
   "execution_count": 8,
   "id": "ce7795d3-612f-407c-9d0a-a2df695380f5",
   "metadata": {},
   "outputs": [
    {
     "name": "stdout",
     "output_type": "stream",
     "text": [
      "The Candidate can take the test .\n"
     ]
    },
    {
     "name": "stdin",
     "output_type": "stream",
     "text": [
      "Status of test {pass or fail} =  5\n"
     ]
    },
    {
     "name": "stdout",
     "output_type": "stream",
     "text": [
      "Dafa hojao\n"
     ]
    }
   ],
   "source": [
    "matric_pass = True\n",
    "if matric_pass:\n",
    "    print(\"The Candidate can take the test .\")\n",
    "    test_pass = input(\"Status of test {pass or fail} = \")\n",
    "    if test_pass == \"pass\":\n",
    "        print(\"Now You have enrolled in the course .\")\n",
    "    else:\n",
    "        print(\"Dafa hojao\")\n",
    "else:\n",
    "    print(\"Dafa hojao\")"
   ]
  },
  {
   "cell_type": "code",
   "execution_count": 22,
   "id": "cdd9da97-7736-4fcb-a32d-42639ba36d9e",
   "metadata": {},
   "outputs": [
    {
     "name": "stdin",
     "output_type": "stream",
     "text": [
      "True or False True\n",
      "Pass or Fail  Fail\n"
     ]
    },
    {
     "name": "stdout",
     "output_type": "stream",
     "text": [
      "Sorry you are in the waiting list .\n"
     ]
    }
   ],
   "source": [
    "matric_pass = bool(input(\"True or False\"))\n",
    "test_pass = input(\"Pass or Fail \").lower()\n",
    "# Multi line comment \n",
    "'''Conditional Statement\n",
    "Validating Saylani Students for admission\n",
    "Criteria is Student must be matric pass and test clear \n",
    "'''\n",
    "if matric_pass == True and test_pass == \"pass\":\n",
    "    print(\"You have enrolled in the course .\")\n",
    "elif matric_pass == True:\n",
    "    print(\"Sorry you are in the waiting list .\")\n",
    "else:\n",
    "    print(\"You can enroll in this course .\")"
   ]
  },
  {
   "cell_type": "markdown",
   "id": "1ffca5c4-f971-4c16-8def-c09e7e6b60a4",
   "metadata": {},
   "source": [
    "# List"
   ]
  },
  {
   "cell_type": "code",
   "execution_count": 37,
   "id": "39236dee-ed6a-4f95-99ed-05f0bf63256d",
   "metadata": {},
   "outputs": [],
   "source": [
    "States = ['Atlanta','Chicago','Denver','LA',\"Seattle\"]"
   ]
  },
  {
   "cell_type": "code",
   "execution_count": 30,
   "id": "26705bcd-421a-4186-a977-4e65bf53b859",
   "metadata": {},
   "outputs": [
    {
     "name": "stdin",
     "output_type": "stream",
     "text": [
      "State name =  LA\n"
     ]
    },
    {
     "name": "stdout",
     "output_type": "stream",
     "text": [
      "3\n"
     ]
    }
   ],
   "source": [
    "# States = ['Atlanta', 'Chicago', 'Denver', 'LA', 'Seattle']\n",
    "\n",
    "s = input(\"State name = \")\n",
    "for index, State in enumerate(States):\n",
    "    if s == State:  # Use `State` directly from the loop iteration, not `States[State]`\n",
    "        print(index)  # Use `index` to print the index of the state found\n"
   ]
  },
  {
   "cell_type": "code",
   "execution_count": 31,
   "id": "d9c4e167-d3b7-4f7f-8ef8-c7d4c26964cb",
   "metadata": {},
   "outputs": [
    {
     "data": {
      "text/plain": [
       "'Denver'"
      ]
     },
     "execution_count": 31,
     "metadata": {},
     "output_type": "execute_result"
    }
   ],
   "source": [
    "States[2]"
   ]
  },
  {
   "cell_type": "code",
   "execution_count": 32,
   "id": "e3fa2e18-14e0-45e4-914c-81299e0454d4",
   "metadata": {},
   "outputs": [
    {
     "data": {
      "text/plain": [
       "['Atlanta', 'Chicago', 'Denver', 'LA', 'Seattle']"
      ]
     },
     "execution_count": 32,
     "metadata": {},
     "output_type": "execute_result"
    }
   ],
   "source": [
    "States[0:]"
   ]
  },
  {
   "cell_type": "code",
   "execution_count": 33,
   "id": "d3273cf9-0f0a-437b-a5f4-50b225bfdd17",
   "metadata": {},
   "outputs": [
    {
     "data": {
      "text/plain": [
       "['Atlanta', 'Chicago', 'Denver', 'LA']"
      ]
     },
     "execution_count": 33,
     "metadata": {},
     "output_type": "execute_result"
    }
   ],
   "source": [
    "States[:4]"
   ]
  },
  {
   "cell_type": "code",
   "execution_count": 34,
   "id": "0cb8b48b-a783-434d-bd56-297356be5257",
   "metadata": {},
   "outputs": [
    {
     "data": {
      "text/plain": [
       "['Seattle', 'LA', 'Denver', 'Chicago', 'Atlanta']"
      ]
     },
     "execution_count": 34,
     "metadata": {},
     "output_type": "execute_result"
    }
   ],
   "source": [
    "States[::-1]"
   ]
  },
  {
   "cell_type": "code",
   "execution_count": 36,
   "id": "63a420aa-627c-45cc-9490-32129c0e87c4",
   "metadata": {},
   "outputs": [
    {
     "data": {
      "text/plain": [
       "['Denver', 'LA']"
      ]
     },
     "execution_count": 36,
     "metadata": {},
     "output_type": "execute_result"
    }
   ],
   "source": [
    "States[2:4] # First value include last value exclude "
   ]
  },
  {
   "cell_type": "raw",
   "id": "59592ebe-71e4-4f27-affc-31d3abd650e0",
   "metadata": {},
   "source": [
    "NOTE : In Slicing First value is included and last values is excluded"
   ]
  },
  {
   "cell_type": "code",
   "execution_count": 41,
   "id": "e388d845-a86b-4fda-9220-94b4d8aa0146",
   "metadata": {},
   "outputs": [
    {
     "data": {
      "text/plain": [
       "['Denver', 'LA']"
      ]
     },
     "execution_count": 41,
     "metadata": {},
     "output_type": "execute_result"
    }
   ],
   "source": [
    "States[-3 : -1]"
   ]
  },
  {
   "cell_type": "code",
   "execution_count": 42,
   "id": "d48ba9a2-ae9a-4878-a199-8555000921ff",
   "metadata": {},
   "outputs": [
    {
     "data": {
      "text/plain": [
       "['Atlanta', 'Chicago', 'Denver', 'LA', 'Seattle']"
      ]
     },
     "execution_count": 42,
     "metadata": {},
     "output_type": "execute_result"
    }
   ],
   "source": [
    "States"
   ]
  },
  {
   "cell_type": "code",
   "execution_count": 43,
   "id": "2ee173ee-b20f-42cc-81bd-dfee2d78938e",
   "metadata": {},
   "outputs": [
    {
     "data": {
      "text/plain": [
       "['Denver', 'LA', 'Seattle']"
      ]
     },
     "execution_count": 43,
     "metadata": {},
     "output_type": "execute_result"
    }
   ],
   "source": [
    "States[-3:]"
   ]
  },
  {
   "cell_type": "code",
   "execution_count": 45,
   "id": "4da7c978-0a54-4ba0-8cf8-b153d776b573",
   "metadata": {},
   "outputs": [
    {
     "data": {
      "text/plain": [
       "['Atlanta', 'Denver', 'Seattle']"
      ]
     },
     "execution_count": 45,
     "metadata": {},
     "output_type": "execute_result"
    }
   ],
   "source": [
    "States[0::2]"
   ]
  },
  {
   "cell_type": "code",
   "execution_count": 46,
   "id": "555c680a-84d2-4045-bb07-f6fcba7e4538",
   "metadata": {},
   "outputs": [
    {
     "data": {
      "text/plain": [
       "['Seattle', 'LA', 'Denver', 'Chicago', 'Atlanta']"
      ]
     },
     "execution_count": 46,
     "metadata": {},
     "output_type": "execute_result"
    }
   ],
   "source": [
    "States[::-1]"
   ]
  },
  {
   "cell_type": "markdown",
   "id": "9bb156aa-eee1-4663-ac2f-47318a5e44be",
   "metadata": {},
   "source": [
    "# Functions of list "
   ]
  },
  {
   "cell_type": "raw",
   "id": "7b74bb9f-d141-4fc9-abff-8dddf082e76c",
   "metadata": {},
   "source": [
    "Adding and inserting"
   ]
  },
  {
   "cell_type": "code",
   "execution_count": 60,
   "id": "935c362a-b7e8-4c84-8183-86924791b979",
   "metadata": {},
   "outputs": [],
   "source": [
    "States.append(\"NYC\") #By default add value at end list"
   ]
  },
  {
   "cell_type": "code",
   "execution_count": 48,
   "id": "b1f8359e-41fe-4e82-abb7-6b463f0ea10a",
   "metadata": {},
   "outputs": [
    {
     "data": {
      "text/plain": [
       "['Atlanta', 'Chicago', 'Denver', 'LA', 'Seattle', 'NYC']"
      ]
     },
     "execution_count": 48,
     "metadata": {},
     "output_type": "execute_result"
    }
   ],
   "source": [
    "States"
   ]
  },
  {
   "cell_type": "code",
   "execution_count": 49,
   "id": "5fed0867-91a7-4f1d-87f2-b5440e95026a",
   "metadata": {},
   "outputs": [],
   "source": [
    "States.insert(-1,\"NYC\")"
   ]
  },
  {
   "cell_type": "code",
   "execution_count": 50,
   "id": "e78a1cc3-9d7b-4d60-a1e2-d4c63389d529",
   "metadata": {},
   "outputs": [
    {
     "data": {
      "text/plain": [
       "['Atlanta', 'Chicago', 'Denver', 'LA', 'Seattle', 'NYC', 'NYC']"
      ]
     },
     "execution_count": 50,
     "metadata": {},
     "output_type": "execute_result"
    }
   ],
   "source": [
    "States"
   ]
  },
  {
   "cell_type": "code",
   "execution_count": 51,
   "id": "7b0f7ee4-2c8f-43e7-8445-59ee1b7e016a",
   "metadata": {},
   "outputs": [
    {
     "data": {
      "text/plain": [
       "['__add__',\n",
       " '__class__',\n",
       " '__class_getitem__',\n",
       " '__contains__',\n",
       " '__delattr__',\n",
       " '__delitem__',\n",
       " '__dir__',\n",
       " '__doc__',\n",
       " '__eq__',\n",
       " '__format__',\n",
       " '__ge__',\n",
       " '__getattribute__',\n",
       " '__getitem__',\n",
       " '__getstate__',\n",
       " '__gt__',\n",
       " '__hash__',\n",
       " '__iadd__',\n",
       " '__imul__',\n",
       " '__init__',\n",
       " '__init_subclass__',\n",
       " '__iter__',\n",
       " '__le__',\n",
       " '__len__',\n",
       " '__lt__',\n",
       " '__mul__',\n",
       " '__ne__',\n",
       " '__new__',\n",
       " '__reduce__',\n",
       " '__reduce_ex__',\n",
       " '__repr__',\n",
       " '__reversed__',\n",
       " '__rmul__',\n",
       " '__setattr__',\n",
       " '__setitem__',\n",
       " '__sizeof__',\n",
       " '__str__',\n",
       " '__subclasshook__',\n",
       " 'append',\n",
       " 'clear',\n",
       " 'copy',\n",
       " 'count',\n",
       " 'extend',\n",
       " 'index',\n",
       " 'insert',\n",
       " 'pop',\n",
       " 'remove',\n",
       " 'reverse',\n",
       " 'sort']"
      ]
     },
     "execution_count": 51,
     "metadata": {},
     "output_type": "execute_result"
    }
   ],
   "source": [
    "dir(States)"
   ]
  },
  {
   "cell_type": "code",
   "execution_count": 56,
   "id": "630e7109-33f0-4db7-80f0-4c6fad62e1fa",
   "metadata": {},
   "outputs": [
    {
     "data": {
      "text/plain": [
       "'Two Methods if we forget attributes\\nFirst: Tab\\nSecond: DIR\\n'"
      ]
     },
     "execution_count": 56,
     "metadata": {},
     "output_type": "execute_result"
    }
   ],
   "source": [
    "'''Two Methods if we forget attributes\n",
    "First: Tab\n",
    "Second: DIR\n",
    "'''.strip(' ')"
   ]
  },
  {
   "cell_type": "code",
   "execution_count": 58,
   "id": "d8bf50f2-7883-47ba-9f48-d2aab8dc279a",
   "metadata": {},
   "outputs": [
    {
     "data": {
      "text/plain": [
       "['Atlanta', 'Chicago', 'Denver', 'LA', 'Seattle', 'NYC', 'NYC']"
      ]
     },
     "execution_count": 58,
     "metadata": {},
     "output_type": "execute_result"
    }
   ],
   "source": [
    "States"
   ]
  },
  {
   "cell_type": "code",
   "execution_count": 59,
   "id": "2f2c5abd-b9b6-4713-8add-a557a6816869",
   "metadata": {},
   "outputs": [],
   "source": [
    "# Function with class is called method"
   ]
  },
  {
   "cell_type": "code",
   "execution_count": 63,
   "id": "b1f08688-c91c-42e8-be48-7e90b54935d6",
   "metadata": {},
   "outputs": [],
   "source": [
    "States = States + ['Dallas'] #Concatenation"
   ]
  },
  {
   "cell_type": "code",
   "execution_count": 64,
   "id": "157213a8-8e17-408c-80be-e17ec6d8d86a",
   "metadata": {},
   "outputs": [
    {
     "data": {
      "text/plain": [
       "['Atlanta',\n",
       " 'Chicago',\n",
       " 'Denver',\n",
       " 'LA',\n",
       " 'Seattle',\n",
       " 'NYC',\n",
       " 'NYC',\n",
       " 'NYC',\n",
       " 'Dallas']"
      ]
     },
     "execution_count": 64,
     "metadata": {},
     "output_type": "execute_result"
    }
   ],
   "source": [
    "States"
   ]
  },
  {
   "cell_type": "markdown",
   "id": "315fe15b-25e1-47d1-a043-2b0106725e9b",
   "metadata": {},
   "source": [
    "# Deleting and Removing elements"
   ]
  },
  {
   "cell_type": "code",
   "execution_count": 77,
   "id": "4a02fa83-54ca-4104-b726-feffd491c904",
   "metadata": {},
   "outputs": [
    {
     "ename": "ValueError",
     "evalue": "list.remove(x): x not in list",
     "output_type": "error",
     "traceback": [
      "\u001b[1;31m---------------------------------------------------------------------------\u001b[0m",
      "\u001b[1;31mValueError\u001b[0m                                Traceback (most recent call last)",
      "Cell \u001b[1;32mIn[77], line 1\u001b[0m\n\u001b[1;32m----> 1\u001b[0m States\u001b[38;5;241m.\u001b[39mremove(\u001b[38;5;124m'\u001b[39m\u001b[38;5;124mDallas\u001b[39m\u001b[38;5;124m'\u001b[39m)\n",
      "\u001b[1;31mValueError\u001b[0m: list.remove(x): x not in list"
     ]
    }
   ],
   "source": [
    "States.remove('Dallas') # By passing value"
   ]
  },
  {
   "cell_type": "code",
   "execution_count": 78,
   "id": "b7ca4c0b-c53a-4052-b32d-054036942adc",
   "metadata": {},
   "outputs": [
    {
     "data": {
      "text/plain": [
       "['Atlanta', 'Chicago', 'Denver', 'LA', 'Seattle', 'NYC', 'NYC']"
      ]
     },
     "execution_count": 78,
     "metadata": {},
     "output_type": "execute_result"
    }
   ],
   "source": [
    "States"
   ]
  },
  {
   "cell_type": "code",
   "execution_count": 79,
   "id": "5501eaef-2ea0-4736-8e16-daf82088b8f8",
   "metadata": {},
   "outputs": [],
   "source": [
    "States.remove('NYC')"
   ]
  },
  {
   "cell_type": "code",
   "execution_count": 80,
   "id": "38fb7c58-5b47-41a8-9733-7417223df5e0",
   "metadata": {},
   "outputs": [
    {
     "data": {
      "text/plain": [
       "['Atlanta', 'Chicago', 'Denver', 'LA', 'Seattle', 'NYC']"
      ]
     },
     "execution_count": 80,
     "metadata": {},
     "output_type": "execute_result"
    }
   ],
   "source": [
    "States"
   ]
  },
  {
   "cell_type": "markdown",
   "id": "420dd6d2-2d89-4438-8e21-ac4f7ef3c327",
   "metadata": {},
   "source": [
    "###### Poping value"
   ]
  },
  {
   "cell_type": "code",
   "execution_count": 86,
   "id": "fec2c005-18c8-4607-8698-3eea09d4377e",
   "metadata": {},
   "outputs": [],
   "source": [
    "s = States.pop() # Value will remove from list & Store in variable"
   ]
  },
  {
   "cell_type": "code",
   "execution_count": 82,
   "id": "b0351b74-275a-4c92-8745-d63970b34234",
   "metadata": {},
   "outputs": [
    {
     "data": {
      "text/plain": [
       "'NYC'"
      ]
     },
     "execution_count": 82,
     "metadata": {},
     "output_type": "execute_result"
    }
   ],
   "source": [
    "s"
   ]
  },
  {
   "cell_type": "code",
   "execution_count": 83,
   "id": "483e223b-1f57-400e-b980-e76b283caa03",
   "metadata": {},
   "outputs": [
    {
     "data": {
      "text/plain": [
       "['Atlanta', 'Chicago', 'Denver', 'LA', 'Seattle']"
      ]
     },
     "execution_count": 83,
     "metadata": {},
     "output_type": "execute_result"
    }
   ],
   "source": [
    "States"
   ]
  },
  {
   "cell_type": "code",
   "execution_count": 84,
   "id": "5ab4a7eb-442f-4cc0-aa68-87e0476a2c8e",
   "metadata": {},
   "outputs": [],
   "source": [
    "States.append(s)"
   ]
  },
  {
   "cell_type": "code",
   "execution_count": 85,
   "id": "9311d3bf-09f6-452b-9e10-911ee135733e",
   "metadata": {},
   "outputs": [
    {
     "data": {
      "text/plain": [
       "['Atlanta', 'Chicago', 'Denver', 'LA', 'Seattle', 'NYC']"
      ]
     },
     "execution_count": 85,
     "metadata": {},
     "output_type": "execute_result"
    }
   ],
   "source": [
    "States"
   ]
  },
  {
   "cell_type": "code",
   "execution_count": 87,
   "id": "c7f601ce-8cc4-4343-badf-f428ee797291",
   "metadata": {},
   "outputs": [],
   "source": [
    "States.remove('Chicago')"
   ]
  },
  {
   "cell_type": "code",
   "execution_count": 88,
   "id": "a19be6e9-4d3f-42e6-b123-77e87e029ca8",
   "metadata": {},
   "outputs": [
    {
     "data": {
      "text/plain": [
       "['Atlanta', 'Denver', 'LA', 'Seattle']"
      ]
     },
     "execution_count": 88,
     "metadata": {},
     "output_type": "execute_result"
    }
   ],
   "source": [
    "States"
   ]
  },
  {
   "cell_type": "code",
   "execution_count": 89,
   "id": "f29c6cfe-884c-4e92-996c-e5c76d874d38",
   "metadata": {},
   "outputs": [
    {
     "data": {
      "text/plain": [
       "'LA'"
      ]
     },
     "execution_count": 89,
     "metadata": {},
     "output_type": "execute_result"
    }
   ],
   "source": [
    "States.pop(-2)"
   ]
  },
  {
   "cell_type": "code",
   "execution_count": 90,
   "id": "782b2e24-5fdc-4b3c-b4f3-f50a9d370bc0",
   "metadata": {},
   "outputs": [
    {
     "data": {
      "text/plain": [
       "['Atlanta', 'Denver', 'Seattle']"
      ]
     },
     "execution_count": 90,
     "metadata": {},
     "output_type": "execute_result"
    }
   ],
   "source": [
    "States"
   ]
  },
  {
   "cell_type": "code",
   "execution_count": 91,
   "id": "6f1087f6-3c1c-426c-add1-5670829c13d4",
   "metadata": {},
   "outputs": [],
   "source": [
    "# To store a deleted value we use .pop()"
   ]
  },
  {
   "cell_type": "code",
   "execution_count": 117,
   "id": "d61bbc93-1360-4204-a00e-578e70322627",
   "metadata": {},
   "outputs": [],
   "source": [
    "tasks = ['Praying','Running','Breakfast']\n",
    "task_done = []"
   ]
  },
  {
   "cell_type": "code",
   "execution_count": 118,
   "id": "ea34c735-28d0-4099-b05e-3f39a15c2c47",
   "metadata": {},
   "outputs": [],
   "source": [
    "t = tasks.pop(0)"
   ]
  },
  {
   "cell_type": "code",
   "execution_count": 119,
   "id": "8b03ee89-c9ac-464b-b197-658bda5159bb",
   "metadata": {},
   "outputs": [],
   "source": [
    "task_done.append(t)"
   ]
  },
  {
   "cell_type": "code",
   "execution_count": 120,
   "id": "e522aee4-382f-4e23-ad41-4070bdd2e7c0",
   "metadata": {},
   "outputs": [
    {
     "data": {
      "text/plain": [
       "['Praying']"
      ]
     },
     "execution_count": 120,
     "metadata": {},
     "output_type": "execute_result"
    }
   ],
   "source": [
    "task_done"
   ]
  },
  {
   "cell_type": "markdown",
   "id": "07216e27-3189-4cbe-94a7-3cedb8c556bf",
   "metadata": {},
   "source": [
    "#### Extra Methods"
   ]
  },
  {
   "cell_type": "code",
   "execution_count": 110,
   "id": "7a96e41e-c1a5-4e78-9e79-e94aa203a314",
   "metadata": {},
   "outputs": [],
   "source": [
    "task_done.clear()"
   ]
  },
  {
   "cell_type": "code",
   "execution_count": 111,
   "id": "b60040bc-9b30-4bc4-9048-9278f44ec63e",
   "metadata": {},
   "outputs": [
    {
     "data": {
      "text/plain": [
       "[]"
      ]
     },
     "execution_count": 111,
     "metadata": {},
     "output_type": "execute_result"
    }
   ],
   "source": [
    "task_done"
   ]
  },
  {
   "cell_type": "code",
   "execution_count": 112,
   "id": "cff39b44-d9fa-41b9-bd8a-54319656d7fe",
   "metadata": {},
   "outputs": [],
   "source": [
    "States.extend(['Dallas'])"
   ]
  },
  {
   "cell_type": "code",
   "execution_count": 113,
   "id": "e5eaaac5-8345-4240-b33a-a01fc594fca9",
   "metadata": {},
   "outputs": [
    {
     "data": {
      "text/plain": [
       "['Atlanta', 'Denver', 'Seattle', 'Dallas']"
      ]
     },
     "execution_count": 113,
     "metadata": {},
     "output_type": "execute_result"
    }
   ],
   "source": [
    "States"
   ]
  },
  {
   "cell_type": "markdown",
   "id": "128963d3-a255-4798-a093-9b3924f7a0f1",
   "metadata": {},
   "source": [
    "# Concept of shallow and deep copy \n",
    "Shallow copy:\n",
    "1. Reference to the same original\n",
    "2. Changing in original can affect the copy\n",
    "\n",
    "Deep Copy:\n",
    "Seperate list \n",
    "no chage in original"
   ]
  },
  {
   "cell_type": "code",
   "execution_count": 114,
   "id": "d797b2a4-8755-4bca-872c-f6f47103c0e3",
   "metadata": {},
   "outputs": [],
   "source": [
    "State = States[:]"
   ]
  },
  {
   "cell_type": "code",
   "execution_count": 115,
   "id": "251e837f-2f43-4623-a087-201657f9b4ac",
   "metadata": {},
   "outputs": [
    {
     "data": {
      "text/plain": [
       "['Atlanta', 'Denver', 'Seattle', 'Dallas']"
      ]
     },
     "execution_count": 115,
     "metadata": {},
     "output_type": "execute_result"
    }
   ],
   "source": [
    "State"
   ]
  },
  {
   "cell_type": "code",
   "execution_count": 121,
   "id": "5c5b2b90-5d1a-42c9-88e6-d5a0b395a8fd",
   "metadata": {},
   "outputs": [],
   "source": [
    "todolist = task_done .copy()"
   ]
  },
  {
   "cell_type": "code",
   "execution_count": 122,
   "id": "2d374bb1-ee51-4af0-b3a2-87c30e73465d",
   "metadata": {},
   "outputs": [
    {
     "data": {
      "text/plain": [
       "['Praying']"
      ]
     },
     "execution_count": 122,
     "metadata": {},
     "output_type": "execute_result"
    }
   ],
   "source": [
    "todolist"
   ]
  },
  {
   "cell_type": "code",
   "execution_count": 123,
   "id": "b0962133-d2fe-449a-9f1e-67605d0a0966",
   "metadata": {},
   "outputs": [
    {
     "data": {
      "text/plain": [
       "1704363518528"
      ]
     },
     "execution_count": 123,
     "metadata": {},
     "output_type": "execute_result"
    }
   ],
   "source": [
    "id (todolist)"
   ]
  },
  {
   "cell_type": "code",
   "execution_count": 124,
   "id": "6c205d55-13bc-44e8-8c7f-93b04b74da1b",
   "metadata": {},
   "outputs": [
    {
     "data": {
      "text/plain": [
       "1704364200064"
      ]
     },
     "execution_count": 124,
     "metadata": {},
     "output_type": "execute_result"
    }
   ],
   "source": [
    "id(task_done)"
   ]
  },
  {
   "cell_type": "code",
   "execution_count": 128,
   "id": "24dfc2d5-fc1c-4539-ab52-d7e38b42b059",
   "metadata": {},
   "outputs": [],
   "source": [
    "task_done.append('Breakfast')"
   ]
  },
  {
   "cell_type": "code",
   "execution_count": 129,
   "id": "f51f3f0d-b4f3-442d-a94b-d20f372394b1",
   "metadata": {},
   "outputs": [
    {
     "data": {
      "text/plain": [
       "['Praying', 'Breakfast']"
      ]
     },
     "execution_count": 129,
     "metadata": {},
     "output_type": "execute_result"
    }
   ],
   "source": [
    "todolist"
   ]
  },
  {
   "cell_type": "code",
   "execution_count": 130,
   "id": "1068dcba-6af2-470f-95f4-204d3ab9307b",
   "metadata": {},
   "outputs": [
    {
     "data": {
      "text/plain": [
       "['Praying', 'Breakfast']"
      ]
     },
     "execution_count": 130,
     "metadata": {},
     "output_type": "execute_result"
    }
   ],
   "source": [
    "task_done"
   ]
  },
  {
   "cell_type": "code",
   "execution_count": null,
   "id": "7b1b009b-be43-4319-8e1b-1b812bad822e",
   "metadata": {},
   "outputs": [],
   "source": []
  }
 ],
 "metadata": {
  "kernelspec": {
   "display_name": "Python 3 (ipykernel)",
   "language": "python",
   "name": "python3"
  },
  "language_info": {
   "codemirror_mode": {
    "name": "ipython",
    "version": 3
   },
   "file_extension": ".py",
   "mimetype": "text/x-python",
   "name": "python",
   "nbconvert_exporter": "python",
   "pygments_lexer": "ipython3",
   "version": "3.11.7"
  }
 },
 "nbformat": 4,
 "nbformat_minor": 5
}
