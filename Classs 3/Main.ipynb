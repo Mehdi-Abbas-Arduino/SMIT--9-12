{
 "cells": [
  {
   "cell_type": "markdown",
   "id": "93d03112-e3d4-4e9e-9884-1b8676ba724f",
   "metadata": {},
   "source": [
    "### Revision"
   ]
  },
  {
   "cell_type": "code",
   "execution_count": 44,
   "id": "f61a5613-78e8-4228-aa46-ec76e1eef403",
   "metadata": {},
   "outputs": [
    {
     "name": "stdout",
     "output_type": "stream",
     "text": [
      "Mehdi Abbas , \"Hello\"\n"
     ]
    }
   ],
   "source": [
    "print(\"Mehdi Abbas , \\\"Hello\\\"\")"
   ]
  },
  {
   "cell_type": "code",
   "execution_count": 45,
   "id": "42ec5ae7-d000-4302-9557-70852829db2e",
   "metadata": {},
   "outputs": [
    {
     "name": "stdout",
     "output_type": "stream",
     "text": [
      "\n",
      "Help on NoneType object:\n",
      "\n",
      "class NoneType(object)\n",
      " |  Methods defined here:\n",
      " |  \n",
      " |  __bool__(self, /)\n",
      " |      True if self else False\n",
      " |  \n",
      " |  __repr__(self, /)\n",
      " |      Return repr(self).\n",
      " |  \n",
      " |  ----------------------------------------------------------------------\n",
      " |  Static methods defined here:\n",
      " |  \n",
      " |  __new__(*args, **kwargs) from builtins.type\n",
      " |      Create and return a new object.  See help(type) for accurate signature.\n",
      "\n"
     ]
    }
   ],
   "source": [
    "help(print())"
   ]
  },
  {
   "cell_type": "markdown",
   "id": "acd383ed-f306-413e-9d11-dfbc522b735d",
   "metadata": {},
   "source": [
    "# Types of Concatenation"
   ]
  },
  {
   "cell_type": "code",
   "execution_count": 46,
   "id": "f81ef4ba-f3de-429a-b4d0-f2374683e6f8",
   "metadata": {},
   "outputs": [
    {
     "name": "stdout",
     "output_type": "stream",
     "text": [
      "Mehdi Abbas 45False\n"
     ]
    }
   ],
   "source": [
    "name = \"Mehdi \"\n",
    "last_name = \"Abbas \"\n",
    "age = 45 \n",
    "is_trainer = False\n",
    "print(name+last_name + str(age ) + str(is_trainer))"
   ]
  },
  {
   "cell_type": "code",
   "execution_count": 47,
   "id": "199b0de7-ab69-4983-b015-5baf5ff2b3aa",
   "metadata": {},
   "outputs": [
    {
     "data": {
      "text/plain": [
       "'Trainer name is : Mehdi  Abbas '"
      ]
     },
     "execution_count": 47,
     "metadata": {},
     "output_type": "execute_result"
    }
   ],
   "source": [
    "f\"Trainer name is : {name} {last_name}\"\n"
   ]
  },
  {
   "cell_type": "code",
   "execution_count": 48,
   "id": "4345d24f-1843-4b18-9bdb-32626ee8e6ac",
   "metadata": {},
   "outputs": [
    {
     "name": "stdout",
     "output_type": "stream",
     "text": [
      "Trainer name is  Mehdi  Abbas \n"
     ]
    }
   ],
   "source": [
    "print(\"Trainer name is \" , name,last_name )"
   ]
  },
  {
   "cell_type": "code",
   "execution_count": 49,
   "id": "969f6dfe-99d5-4d5e-afb9-b60e22bd92f4",
   "metadata": {},
   "outputs": [
    {
     "data": {
      "text/plain": [
       "'Mehdi  Abbas '"
      ]
     },
     "execution_count": 49,
     "metadata": {},
     "output_type": "execute_result"
    }
   ],
   "source": [
    "\"{0} {1}\".format(name,last_name) # .format() takes variable to be concatenate starts at index 0 "
   ]
  },
  {
   "cell_type": "code",
   "execution_count": 62,
   "id": "4a397668-dab6-4b08-801f-c54ef3479844",
   "metadata": {},
   "outputs": [
    {
     "name": "stdout",
     "output_type": "stream",
     "text": [
      "My name is ChatGPT\n"
     ]
    }
   ],
   "source": [
    "name = \"ChatGPT\"\n",
    "a = f'''My name is {name}'''.strip()\n",
    "print(a)\n"
   ]
  },
  {
   "cell_type": "markdown",
   "id": "1b7561ff-c207-41fb-b331-f13987031859",
   "metadata": {},
   "source": [
    "# Conditional Statements "
   ]
  },
  {
   "cell_type": "markdown",
   "id": "795177e4-ab0f-4e5b-99f4-986d9c86c682",
   "metadata": {},
   "source": [
    "1. if()\n",
    "2. else()\n",
    "3. elif()"
   ]
  },
  {
   "cell_type": "raw",
   "id": "5782ebe4-0468-473e-b255-ea437db7fa5b",
   "metadata": {},
   "source": [
    "OPERATORS USED \n",
    "1. ARITHMETIC\n",
    "2. LOGICAL \n",
    "USING AND OR NOT "
   ]
  },
  {
   "cell_type": "code",
   "execution_count": 50,
   "id": "50170f38-5dd1-4821-bd94-a6188ef43209",
   "metadata": {},
   "outputs": [
    {
     "name": "stdin",
     "output_type": "stream",
     "text": [
      "Enter the result =  s\n"
     ]
    },
    {
     "name": "stdout",
     "output_type": "stream",
     "text": [
      "Pakistan like usual lost \n",
      "0 0\n"
     ]
    }
   ],
   "source": [
    "win = 0\n",
    "tie = 0\n",
    "Result = input(\"Enter the result = \").lower()\n",
    "if Result == \"win\":\n",
    "    win += 1\n",
    "    print(\"Nacho\")\n",
    "elif Result == \"tie\":\n",
    "    tie += 1 \n",
    "else:\n",
    "    print(\"Pakistan like usual lost \")\n",
    "print(win,tie)"
   ]
  },
  {
   "cell_type": "code",
   "execution_count": 39,
   "id": "6da47a9d-2841-4beb-b760-f2a0fc8e699f",
   "metadata": {},
   "outputs": [
    {
     "name": "stdin",
     "output_type": "stream",
     "text": [
      "Enter your fav car brand =  audi\n"
     ]
    },
    {
     "name": "stdout",
     "output_type": "stream",
     "text": [
      "My fav car is audi\n"
     ]
    }
   ],
   "source": [
    "vehicle = input(\"Enter your fav car brand = \").lower()\n",
    "if vehicle == \"audi\":\n",
    "    print(\"My fav car is audi\")\n",
    "elif vehicle == \"bmw\":\n",
    "    print(\"My fav car is bmw\")\n",
    "elif vehicle == \"porsche\":\n",
    "    print(\"My fav car is porsche\")\n",
    "elif vehicle == \"RangeRover\":\n",
    "    print(\"My fav car is RangeRover\")\n",
    "else:\n",
    "    print(\"My fav vehicle is \",vehicle )"
   ]
  },
  {
   "cell_type": "code",
   "execution_count": 43,
   "id": "b859f2c0-5af5-4a57-a0d4-c7285b20f976",
   "metadata": {},
   "outputs": [
    {
     "name": "stdin",
     "output_type": "stream",
     "text": [
      "Enter the marks =  100\n"
     ]
    },
    {
     "name": "stdout",
     "output_type": "stream",
     "text": [
      "The grade is A+\n"
     ]
    }
   ],
   "source": [
    "marks = int(input(\"Enter the marks = \"))\n",
    "if marks >= 80 :\n",
    "    print(\"The grade is A+\")\n",
    "elif marks >= 70 :\n",
    "    print(\"The grade is A\")\n",
    "elif marks >= 60:\n",
    "    print(\"The grade is B\")\n",
    "elif marks > 50:\n",
    "    print(\"The grade is C \")\n",
    "else:\n",
    "    print(\"the grade is F \")"
   ]
  },
  {
   "cell_type": "markdown",
   "id": "7225e2d5-ed0b-4c7b-91b3-87b5987827f3",
   "metadata": {},
   "source": [
    "# Comparision operators"
   ]
  },
  {
   "cell_type": "code",
   "execution_count": 70,
   "id": "e043d0d6-52e8-4719-91e6-a1a1c87e1654",
   "metadata": {},
   "outputs": [
    {
     "data": {
      "text/plain": [
       "False"
      ]
     },
     "execution_count": 70,
     "metadata": {},
     "output_type": "execute_result"
    }
   ],
   "source": [
    "95 == 80"
   ]
  },
  {
   "cell_type": "code",
   "execution_count": 52,
   "id": "1879bdd6-3d65-4323-b7fe-c9d6c2601c03",
   "metadata": {},
   "outputs": [
    {
     "data": {
      "text/plain": [
       "False"
      ]
     },
     "execution_count": 52,
     "metadata": {},
     "output_type": "execute_result"
    }
   ],
   "source": [
    "95 == 80"
   ]
  },
  {
   "cell_type": "code",
   "execution_count": 53,
   "id": "09111e2e-a6da-4f9a-8181-7b37b992cc59",
   "metadata": {},
   "outputs": [
    {
     "data": {
      "text/plain": [
       "True"
      ]
     },
     "execution_count": 53,
     "metadata": {},
     "output_type": "execute_result"
    }
   ],
   "source": [
    "95 != 80\n"
   ]
  },
  {
   "cell_type": "code",
   "execution_count": 54,
   "id": "34e2e206-1c9e-441c-8fe2-28285026b858",
   "metadata": {},
   "outputs": [
    {
     "data": {
      "text/plain": [
       "False"
      ]
     },
     "execution_count": 54,
     "metadata": {},
     "output_type": "execute_result"
    }
   ],
   "source": [
    "95 < 80"
   ]
  },
  {
   "cell_type": "code",
   "execution_count": 55,
   "id": "e237fc6f-ee0f-4880-aca8-1e7cb65af4b4",
   "metadata": {},
   "outputs": [
    {
     "data": {
      "text/plain": [
       "True"
      ]
     },
     "execution_count": 55,
     "metadata": {},
     "output_type": "execute_result"
    }
   ],
   "source": [
    "95 > 80"
   ]
  },
  {
   "cell_type": "code",
   "execution_count": 56,
   "id": "4d4b9ba9-eec7-4d30-ab7f-5e23362333c0",
   "metadata": {},
   "outputs": [],
   "source": [
    "all_available = True \n",
    "is_fresh = True \n",
    "price = \"average\""
   ]
  },
  {
   "cell_type": "code",
   "execution_count": 59,
   "id": "59039c82-4e0f-4130-a0f7-dee9f3c86974",
   "metadata": {},
   "outputs": [],
   "source": [
    "score = 0 \n",
    "if all_available :\n",
    "    score += 5 \n",
    "if is_fresh :\n",
    "    score += 5 \n",
    "if price == \"average\":\n",
    "    score += 5 "
   ]
  },
  {
   "cell_type": "code",
   "execution_count": 60,
   "id": "07871f6a-fe46-413d-a5e4-b18b8e92e9f1",
   "metadata": {},
   "outputs": [
    {
     "data": {
      "text/plain": [
       "15"
      ]
     },
     "execution_count": 60,
     "metadata": {},
     "output_type": "execute_result"
    }
   ],
   "source": [
    "score"
   ]
  },
  {
   "cell_type": "markdown",
   "id": "8a0b7e06-b5f0-40c7-8ae9-421305841a65",
   "metadata": {},
   "source": [
    "# Comparision Operators \n",
    "1. and\n",
    "2. or\n",
    "3. not"
   ]
  },
  {
   "cell_type": "code",
   "execution_count": 67,
   "id": "d159f713-c881-4c26-bbaf-cd1667527cf6",
   "metadata": {},
   "outputs": [
    {
     "name": "stdin",
     "output_type": "stream",
     "text": [
      "Enter the weight =  28\n",
      "Enter the age =  16\n"
     ]
    },
    {
     "name": "stdout",
     "output_type": "stream",
     "text": [
      "Let him enter \n"
     ]
    }
   ],
   "source": [
    "weight = float(input(\"Enter the weight = \"))\n",
    "age = int(input(\"Enter the age = \"))\n",
    "if weight > 24 and age > 15 and age != 27 :\n",
    "    print(\"Let him enter \")"
   ]
  },
  {
   "cell_type": "code",
   "execution_count": 68,
   "id": "4656bd83-9947-4b58-84dd-95a117719b32",
   "metadata": {},
   "outputs": [
    {
     "name": "stdin",
     "output_type": "stream",
     "text": [
      "Enter the percentage =  70\n",
      "Enter the age =  19\n"
     ]
    },
    {
     "name": "stdout",
     "output_type": "stream",
     "text": [
      "Elligible to take admission in university\n"
     ]
    }
   ],
   "source": [
    "percentage_alevels = float(input(\"Enter the percentage = \"))\n",
    "age_limit = int(input(\"Enter the age = \"))\n",
    "if (percentage_alevels>60) and (age_limit>10):\n",
    "    print(\"Elligible to take admission in university\")\n",
    "else:\n",
    "    print(\"Not Elligible to take admission in university\")"
   ]
  },
  {
   "cell_type": "code",
   "execution_count": 71,
   "id": "a96998d4-ce0e-4173-bdae-a86cf204d307",
   "metadata": {},
   "outputs": [
    {
     "data": {
      "text/plain": [
       "False"
      ]
     },
     "execution_count": 71,
     "metadata": {},
     "output_type": "execute_result"
    }
   ],
   "source": [
    "not True"
   ]
  },
  {
   "cell_type": "code",
   "execution_count": 72,
   "id": "e860161a-0230-40b3-b1f1-148b47301828",
   "metadata": {},
   "outputs": [
    {
     "name": "stdin",
     "output_type": "stream",
     "text": [
      "Enter the percentage =  0\n",
      "Enter the age =  19\n"
     ]
    },
    {
     "name": "stdout",
     "output_type": "stream",
     "text": [
      "Elligible to take admission in university\n"
     ]
    }
   ],
   "source": [
    "percentage_alevels = float(input(\"Enter the percentage = \"))\n",
    "age_limit = int(input(\"Enter the age = \"))\n",
    "if (percentage_alevels>60) or (age_limit>10):\n",
    "    print(\"Elligible to take admission in university\")\n",
    "else:\n",
    "    print(\"Not Elligible to take admission in university\")"
   ]
  },
  {
   "cell_type": "code",
   "execution_count": 4,
   "id": "95e0332c-cb98-4e01-84f1-77a7756646ab",
   "metadata": {},
   "outputs": [],
   "source": [
    "def myfunc(vegetable,price):\n",
    "    # vegetable = input(\"Enter the name of vegetable = \")\n",
    "    # price = int(input(\"Enter the price = \"))\n",
    "    if vegetable == \"Cucumber\" and price==60:\n",
    "        print(\"Not available sorry for inconvienience.\")\n",
    "    else:\n",
    "        print(\"Welcome to our shop\")\n",
    "        print(\"Collect your vegetable {v} from counter and price {p}\".format(p = price,v = vegetable))        "
   ]
  },
  {
   "cell_type": "code",
   "execution_count": 5,
   "id": "03f5341c-0ab4-407d-a797-1ebe732cb7aa",
   "metadata": {},
   "outputs": [
    {
     "name": "stdin",
     "output_type": "stream",
     "text": [
      "Enter a name of vegetable =  Potato\n",
      "Enter the price of vegetable =  40\n"
     ]
    },
    {
     "name": "stdout",
     "output_type": "stream",
     "text": [
      "Welcome to our shop\n",
      "Collect your vegetable Potato from counter and price 40\n"
     ]
    }
   ],
   "source": [
    "myfunc(input(\"Enter a name of vegetable = \"),int(input(\"Enter the price of vegetable = \")))"
   ]
  },
  {
   "cell_type": "code",
   "execution_count": null,
   "id": "d8065f39-d506-4852-9a31-0baaa074f802",
   "metadata": {},
   "outputs": [],
   "source": []
  }
 ],
 "metadata": {
  "kernelspec": {
   "display_name": "Python 3 (ipykernel)",
   "language": "python",
   "name": "python3"
  },
  "language_info": {
   "codemirror_mode": {
    "name": "ipython",
    "version": 3
   },
   "file_extension": ".py",
   "mimetype": "text/x-python",
   "name": "python",
   "nbconvert_exporter": "python",
   "pygments_lexer": "ipython3",
   "version": "3.11.7"
  }
 },
 "nbformat": 4,
 "nbformat_minor": 5
}
